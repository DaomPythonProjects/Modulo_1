{
  "nbformat": 4,
  "nbformat_minor": 0,
  "metadata": {
    "colab": {
      "private_outputs": true,
      "provenance": [],
      "authorship_tag": "ABX9TyP1nPG/RkuuEnyv4/yyjeLV",
      "include_colab_link": true
    },
    "kernelspec": {
      "name": "python3",
      "display_name": "Python 3"
    },
    "language_info": {
      "name": "python"
    }
  },
  "cells": [
    {
      "cell_type": "markdown",
      "metadata": {
        "id": "view-in-github",
        "colab_type": "text"
      },
      "source": [
        "<a href=\"https://colab.research.google.com/github/DaomPythonProjects/Modulo_1/blob/main/Modulo_1.ipynb\" target=\"_parent\"><img src=\"https://colab.research.google.com/assets/colab-badge.svg\" alt=\"Open In Colab\"/></a>"
      ]
    },
    {
      "cell_type": "markdown",
      "source": [
        "# Módulo 1: Fundamentos y Buenas Prácticas"
      ],
      "metadata": {
        "id": "eBzuD3t5wu34"
      }
    },
    {
      "cell_type": "markdown",
      "source": [
        "> **👤 Autor**: @Diego Ojeda\n",
        "📅 **Fecha**: 30 de julio de 2025\n",
        "⌚ **Duración Estimada:** 14 horas\n",
        "🏷️ Contenidos Clave:\n",
        ">\n",
        "> - Introducción al ecosistema Python: intérprete, editores y REPL.\n",
        "> - **Estándar de código PEP 8:** Reglas de formato, nombrado y estructura.\n",
        "> - Variables y tipos de datos primitivos (`int`, `float`, `str`, `bool`).\n",
        "> - Operadores aritméticos, de comparación y lógicos.\n",
        "> - Funciones de entrada y salida: `print()` y `input()`.\n",
        "> - Comentarios y documentación básica de código.\n",
        ">\n",
        "> 🎯 **Objetivo**: Escribir los primeros programas en Python, comprendiendo la sintaxis básica y la importancia de un código limpio y estandarizado desde el inicio.\n",
        ">"
      ],
      "metadata": {
        "id": "B_rjBGlhxKe1"
      }
    },
    {
      "cell_type": "markdown",
      "source": [
        "# Guías de Estilo Oficiales\n",
        "\n",
        "[PEP 8 – Style Guide for Python Code](https://peps.python.org/pep-0008/)\n",
        "\n",
        "[Guía Esencial del Estándar de Código PEP 8](https://daom89-dev.notion.site/Gu-a-Esencial-del-Est-ndar-de-C-digo-PEP-8-23316bbc250580a9843becd05c8ffb8d?pvs=74)\n",
        "\n",
        "[Análisis de Código](https://www.pylint.org/)"
      ],
      "metadata": {
        "id": "fMY8ZPXAxNWf"
      }
    },
    {
      "cell_type": "markdown",
      "source": [
        "# Intérpretes\n",
        "\n",
        "[IPython: Guía completa para potenciar tu experiencia Python](https://daom89-dev.notion.site/Gu-a-Esencial-del-Est-ndar-de-C-digo-PEP-8-23316bbc250580a9843becd05c8ffb8d?pvs=74)\n"
      ],
      "metadata": {
        "id": "xVcEf5Qkx6rh"
      }
    },
    {
      "cell_type": "markdown",
      "source": [
        "# Instalación de Python\n",
        "\n",
        "[Instalación de Python en Windows](https://daom89-dev.notion.site/Instalaci-n-de-Python-en-Windows-15916bbc250580959234e42fd4b26d20?pvs=74)"
      ],
      "metadata": {
        "id": "FXnlf9f0yJaa"
      }
    },
    {
      "cell_type": "markdown",
      "source": [
        "# Ecosistema de Python\n",
        "\n",
        "[Guia del Ecosistema de Python](https://daom89-dev.notion.site/Gu-a-Esencial-del-Est-ndar-de-C-digo-PEP-8-23316bbc250580a9843becd05c8ffb8d?pvs=74)\n"
      ],
      "metadata": {
        "id": "V4ylLcdRycQu"
      }
    },
    {
      "cell_type": "markdown",
      "source": [
        "# Explicación de Algoritmos\n",
        "\n",
        "[Explicación de Algoritmos](https://pythontutor.com/python-compiler.html#mode=edit)"
      ],
      "metadata": {
        "id": "S0yLMxCVy0i7"
      }
    },
    {
      "cell_type": "markdown",
      "source": [
        "# Sintaxis Básica Resumen"
      ],
      "metadata": {
        "id": "4VTy5vPdzELt"
      }
    },
    {
      "cell_type": "code",
      "source": [
        "print(\"Hola Mundo\") # Hola Mundo\n",
        "x = 5 # Varaiable\n",
        "print(x) # Salida: 5\n",
        "y = 6\n",
        "print(x+y) # Salida: 11\n",
        "# print(z) # NameError: name 'z' is not defined\n",
        "\n",
        "a = 10\n",
        "# Importancia de la identación\n",
        "if a == 10:\n",
        "    print(\"Es 10\")\n",
        "else:\n",
        "    print(\"No es 10\")\n",
        "\n",
        "valor_decimal = 10.3234\n",
        "mi_cadena = \"Hola Mundo\"\n",
        "\n",
        "# Podemos realizar múltiples asignaciones\n",
        "a, b, c = 4, 3, 2\n",
        "\n",
        "# Realizamos unas operaciones con a,b,c\n",
        "d = (a + b) * c\n",
        "\n",
        "# Definimos una variable booleana\n",
        "imprimir = True\n",
        "\n",
        "# Si imprimir, print()\n",
        "if imprimir:\n",
        "    print(x, d)"
      ],
      "metadata": {
        "id": "u_FGFLT2zKzV"
      },
      "execution_count": null,
      "outputs": []
    },
    {
      "cell_type": "markdown",
      "source": [
        "# Imprimir texto salida por consola\n",
        "\n",
        "[Que hay de nuevo en Python 3.12]([https://docs.python.org/3/whatsnew/3.12.html#whatsnew312-pep701])\n",
        "\n",
        "La función `print()` es una de las herramientas más fundamentales en Python. Nos permite visualizar el resultado de nuestras operaciones, depurar código y comunicarnos con el usuario. Dominar sus opciones te convertirá en un programador más eficaz.\n",
        "\n",
        "### 1. Uso Básico: Imprimir un Mensaje\n",
        "\n",
        "La forma más simple de `print()` es pasarle un valor (como texto o una variable) entre sus paréntesis."
      ],
      "metadata": {
        "id": "BEv3TXi0zTVU"
      }
    },
    {
      "cell_type": "code",
      "source": [
        "# Imprimir un texto directamente\n",
        "print(\"Hola Mundo\")\n",
        "\n",
        "# Imprimir el contenido de una variable\n",
        "saludo = \"Bienvenido al curso de Python\"\n",
        "print(saludo)"
      ],
      "metadata": {
        "id": "l3bpkP4lzwz8"
      },
      "execution_count": null,
      "outputs": []
    },
    {
      "cell_type": "markdown",
      "source": [
        "### 2. Imprimir Varios Valores a la Vez\n",
        "\n",
        "Puedes pasar múltiples valores a `print()`, separados por comas. Por defecto, `print()` los separará con un espacio."
      ],
      "metadata": {
        "id": "NXaGPVcJzzEV"
      }
    },
    {
      "cell_type": "code",
      "source": [
        "nombre = \"Ana\"\n",
        "edad = 28\n",
        "\n",
        "# Python añade un espacio automáticamente entre los valores\n",
        "print(\"Nombre:\", nombre, \"| Edad:\", edad)\n",
        "# Salida: Nombre: Ana | Edad: 28"
      ],
      "metadata": {
        "id": "gBEFOV87z7Ty"
      },
      "execution_count": null,
      "outputs": []
    },
    {
      "cell_type": "markdown",
      "source": [
        "### Personalizar el Separador con `sep`\n",
        "\n",
        "Si no quieres un espacio como separador, puedes usar el argumento `sep`."
      ],
      "metadata": {
        "id": "bAPSPsC1z-JD"
      }
    },
    {
      "cell_type": "code",
      "source": [
        "print(\"monitor\", \"teclado\", \"ratón\", sep=\" | \")\n",
        "# Salida: monitor | teclado | ratón"
      ],
      "metadata": {
        "id": "PGUBBxLyz_k1"
      },
      "execution_count": null,
      "outputs": []
    },
    {
      "cell_type": "markdown",
      "source": [
        "### 3. Controlar el Final de la Línea con `end`\n",
        "\n",
        "Por defecto, `print()` añade un salto de línea (`\\n`) al final de cada impresión. Puedes cambiar este comportamiento con el argumento `end`."
      ],
      "metadata": {
        "id": "xS-dMqN70BdZ"
      }
    },
    {
      "cell_type": "code",
      "source": [
        "# Por defecto, se imprime en líneas separadas\n",
        "print(\"Procesando archivos...\")\n",
        "print(\"Completado.\")\n",
        "\n",
        "# Usando end=\" \" para continuar en la misma línea\n",
        "print(\"Procesando archivos...\", end=\" \")\n",
        "print(\"Completado.\")\n",
        "# Salida: Procesando archivos... Completado."
      ],
      "metadata": {
        "id": "ZY0F4j-30Diw"
      },
      "execution_count": null,
      "outputs": []
    },
    {
      "cell_type": "markdown",
      "source": [
        "### 4. Formateo de Cadenas: La Forma Moderna con F-Strings\n",
        "\n",
        "Las **f-strings** (disponibles desde Python 3.6) son la manera **recomendada, más legible y eficiente** de incluir variables dentro de una cadena de texto."
      ],
      "metadata": {
        "id": "YEs3jBwv0FPS"
      }
    },
    {
      "cell_type": "code",
      "source": [
        "frase = \"Solo soy un texto\"\n",
        "autor = \"String\"\n",
        "\n",
        "# Sintaxis: poner una 'f' antes de las comillas y las variables entre {}\n",
        "print(f\"Frase: {frase}, Autor: {autor}\")\n",
        "# Salida: Frase: Solo soy un texto, Autor: String"
      ],
      "metadata": {
        "id": "7AgcNi7R0HMz"
      },
      "execution_count": null,
      "outputs": []
    },
    {
      "cell_type": "markdown",
      "source": [
        "Las f-strings también permiten aplicar formato avanzado directamente."
      ],
      "metadata": {
        "id": "s2l4yOcr0Kmh"
      }
    },
    {
      "cell_type": "code",
      "source": [
        "valor = 3.14159\n",
        "print(f\"El valor de PI con dos decimales es: {valor:.2f}\")\n",
        "# Salida: El valor de PI con dos decimales es: 3.14"
      ],
      "metadata": {
        "id": "qWzMWgiV0L72"
      },
      "execution_count": null,
      "outputs": []
    },
    {
      "cell_type": "markdown",
      "source": [
        "*(Nota: Aunque existen métodos más antiguos como `.format()`, es bueno enfocarse en f-strings para código nuevo).*\n",
        "\n",
        "Esa sintaxis proviene de una especificación oficial en Python llamada **\"Mini-Lenguaje de Especificación de Formato\"** (Format Specification Mini-Language). Es un conjunto de reglas que te permite controlar con gran detalle cómo se presenta un valor dentro de una cadena de texto.\n",
        "\n",
        "Funciona tanto para f-strings como para el método `.format()`.\n",
        "\n",
        "---\n",
        "\n",
        "### Descomponiendo el Ejemplo: `{valor:.2f}`\n",
        "\n",
        "Vamos a analizar cada parte de tu ejemplo:\n",
        "\n",
        "- **`{valor}`**: Es la variable que quieres imprimir.\n",
        "- **`:`**: El colon es el separador que le dice a Python: \"Lo que sigue a continuación son las instrucciones de formato\".\n",
        "- **`.2`**: Es la **precisión**. Para un número de punto flotante (`f`), esto significa \"mostrar exactamente dos dígitos después del punto decimal\".\n",
        "- **`f`**: Es el **código de tipo**. La `f` significa \"formato de punto fijo\" (un número decimal normal).\n",
        "\n",
        "---\n",
        "\n",
        "### 📜 Códigos de Tipo Más Comunes\n",
        "\n",
        "Aquí tienes una tabla con los códigos más útiles que puedes enseñar.\n",
        "\n",
        "| Código de Tipo | Significado | Ejemplo de Uso | Salida |\n",
        "| --- | --- | --- | --- |\n",
        "| **`f`** | **Punto Fijo**: Para números decimales. | `f\"{3.14159:.2f}\"` | `3.14` |\n",
        "| **`d`** | **Decimal**: Para números enteros. | `f\"{42:d}\"` | `42` |\n",
        "| **`s`** | **String**: Para cadenas de texto (es el predeterminado). | `f\"{'hola':s}\"` | `hola` |\n",
        "| **`e`** | **Notación Científica**: En minúsculas. | `f\"{1000000:.1e}\"` | `1.0e+06` |\n",
        "| **`%`** | **Porcentaje**: Multiplica por 100 y añade el signo %. | `f\"{0.95:.0%}\"` | `95%` |\n",
        "| **`b`** | **Binario**: Convierte el número a su representación binaria. | `f\"{10:b}\"` | `1010` |\n",
        "| **`x`** | **Hexadecimal**: Convierte a hexadecimal (minúsculas). | `f\"{255:x}\"` | `ff` |\n",
        "| **`X`** | **Hexadecimal**: Convierte a hexadecimal (mayúsculas). | `f\"{255:X}\"` | `FF` |\n",
        "| `c`  | **Carácter**: Convierte un entero a su carácter Unicode. | `f\"{90:c}\"` | `Z` |\n",
        "\n",
        "---\n",
        "\n",
        "### Tabla Comparativa de Tipos de Presentación (Flotantes)\n",
        "\n",
        "Esta tabla es fantástica para mostrar las diferencias en la presentación de números flotantes con diferentes tipos y precisiones.\n",
        "\n",
        "|  | `{<float>}` | `{<float>:f}` | `{<float>:e}` | `{<float>:%}` |\n",
        "| --- | --- | --- | --- | --- |\n",
        "| `0.000056789` | `'5.6789e-05'` | `'0.000057'` | `'5.678900e-05'` | `'0.005679%'` |\n",
        "| `0.00056789` | `'0.00056789'` | `'0.000568'` | `'5.678900e-04'` | `'0.056789%'` |\n",
        "| `0.0056789` | `'0.0056789'` | `'0.005679'` | `'5.678900e-03'` | `'0.567890%'` |\n",
        "| `0.056789` | `'0.056789'` | `'0.056789'` | `'5.678900e-02'` | `'5.678900%'` |\n",
        "| `0.56789` | `'0.56789'` | `'0.567890'` | `'5.678900e-01'` | `'56.789000%'` |\n",
        "| `5.6789` | `'5.6789'` | `'5.678900'` | `'5.678900e+00'` | `'567.890000%'` |\n",
        "| `56.789` | `'56.789'` | `'56.789000'` | `'5.678900e+01'` | `'5678.900000%'` |\n",
        "\n",
        "---\n",
        "\n",
        "|  | `{<float>:.2}` | `{<float>:.2f}` | `{<float>:.2e}` | `{<float>:.2%}` |\n",
        "| --- | --- | --- | --- | --- |\n",
        "| `0.000056789` | `'5.7e-05'` | `'0.00'` | `'5.68e-05'` | `'0.01%'` |\n",
        "| `0.00056789` | `'0.00057'` | `'0.00'` | `'5.68e-04'` | `'0.06%'` |\n",
        "| `0.0056789` | `'0.0057'` | `'0.01'` | `'5.68e-03'` | `'0.57%'` |\n",
        "| `0.056789` | `'0.057'` | `'0.06'` | `'5.68e-02'` | `'5.68%'` |\n",
        "| `0.56789` | `'0.57'` | `'0.57'` | `'5.68e-01'` | `'56.79%'` |\n",
        "| `5.6789` | `'5.7'` | `'5.68'` | `'5.68e+00'` | `'567.89%'` |\n",
        "| `56.789` | `'5.7e+01'` | `'56.79'` | `'5.68e+01'` | `'5678.90%'` |\n",
        "\n",
        "**Nota sobre el tipo `g` (General Format):**`'{<float>:g}'` es similar a `'{<float>:.6}'` pero con ceros finales eliminados. Es un formato \"general\" que elige entre notación decimal y científica basándose en el valor y la precisión para dar la representación más concisa. Por ejemplo, si un número es muy grande o muy pequeño, lo mostrará en notación científica."
      ],
      "metadata": {
        "id": "azK5xVni0Suv"
      }
    },
    {
      "cell_type": "code",
      "source": [
        "print(f\"General format (g): {0.000056789:g}\")  # Salida: General format (g): 5.6789e-05\n",
        "print(f\"General format (g): {1234567:g}\")      # Salida: General format (g): 1.23457e+06\n",
        "print(f\"General format (g): {123.456:g}\")      # Salida: General format (g): 123.456"
      ],
      "metadata": {
        "id": "jlYvyXry0Ur4"
      },
      "execution_count": null,
      "outputs": []
    },
    {
      "cell_type": "markdown",
      "source": [
        "**Regla de Redondeo (Round Half to Even)**:\n",
        "Cuando un número está exactamente en el medio entre dos enteros (ej. `.5`, `.25`), Python usa el redondeo \"redondear a la mitad al número par más cercano\" (round half to even). Esto significa que de las dos opciones de redondeo (arriba o abajo), se elige la que resulte en un dígito final par. Esto ayuda a reducir el sesgo estadístico en cálculos grandes.\n",
        "\n",
        "- `{6.5:.0f}` se convierte en `'6'` (6 es par)\n",
        "- `{7.5:.0f}` se convierte en `'8'` (8 es par)\n",
        "\n",
        "Esta regla solo afecta a números que pueden ser representados exactamente por un flotante (como `.5`, `.25`, etc.).\n",
        "\n",
        "### 💡 Combinando con Otras Opciones\n",
        "\n",
        "Puedes combinar los códigos de tipo con otras opciones, como la alineación, el relleno y el ancho. La estructura general es:\n",
        "\n",
        "`:[relleno][alineación][ancho][.precisión][tipo]`\n",
        "\n",
        "### **Alineación y Ancho**\n",
        "\n",
        "Define un ancho total para la cadena y cómo se alinea dentro de ese espacio.\n",
        "\n",
        "- `<`: Alineación a la izquierda.\n",
        "- `^`: Alineación al centro.\n",
        "- `>`: Alineación a la derecha."
      ],
      "metadata": {
        "id": "Eqplp4H80ZwB"
      }
    },
    {
      "cell_type": "code",
      "source": [
        "texto = \"Python\"\n",
        "\n",
        "# Alinea el texto a la derecha en un espacio de 10 caracteres, rellenando con '-'\n",
        "print(f\"|{texto:->10}|\")  # Salida: |----Python|\n",
        "\n",
        "# Alinea al centro en un espacio de 10\n",
        "print(f\"|{texto:-^10}|\")  # Salida: |--Python--|"
      ],
      "metadata": {
        "id": "7KgjW5Pl0aiN"
      },
      "execution_count": null,
      "outputs": []
    },
    {
      "cell_type": "markdown",
      "source": [
        "### **Separador de Miles**\n",
        "\n",
        "Puedes añadir una coma (o un guion bajo) como separador de miles para hacer los números grandes más legibles."
      ],
      "metadata": {
        "id": "KfGahQpW0ctD"
      }
    },
    {
      "cell_type": "code",
      "source": [
        "numero_grande = 1234567890\n",
        "\n",
        "print(f\"Número formateado: {numero_grande:,d}\")\n",
        "# Salida: Número formateado: 1,234,567,890\n",
        "\n",
        "# También puedes usar '_' como separador\n",
        "print(f\"Número formateado: {numero_grande:_d}\")\n",
        "# Salida: Número formateado: 1_234_567_890"
      ],
      "metadata": {
        "id": "mi6Vf-cm0eb0"
      },
      "execution_count": null,
      "outputs": []
    },
    {
      "cell_type": "markdown",
      "source": [
        "### Mostrar el Signo `+` (para números positivos)\n",
        "\n",
        "Por defecto, los números positivos no muestran el signo `+`. Puedes forzarlo usando el signo `+` o un espacio      `` (para alinear con negativos).\n",
        "\n",
        "- `+`: Siempre muestra el signo (positivo o negativo).\n",
        "- : Deja un espacio para el signo si es positivo (para alinear con negativos)."
      ],
      "metadata": {
        "id": "pkCH5poW0f_p"
      }
    },
    {
      "cell_type": "code",
      "source": [
        "positivo = 123\n",
        "negativo = -45\n",
        "\n",
        "print(f\"Positivo con signo +: {positivo:+}\")   # Salida: Positivo con signo +: +123\n",
        "print(f\"Negativo con signo +: {negativo:+}\")   # Salida: Negativo con signo +: -45\n",
        "\n",
        "print(f\"Positivo con espacio: {positivo: }\")   # Salida: Positivo con espacio:  123\n",
        "print(f\"Negativo con espacio: {negativo: }\")   # Salida: Negativo con espacio: -"
      ],
      "metadata": {
        "id": "BTPu5tBx0giV"
      },
      "execution_count": null,
      "outputs": []
    },
    {
      "cell_type": "markdown",
      "source": [
        "### Relleno con Signo (`=`)\n",
        "\n",
        "Cuando usas un signo (`+` o      ``) junto con un ancho y un carácter de relleno, el `=` asegura que el carácter de relleno se coloque *entre* el signo y el número."
      ],
      "metadata": {
        "id": "W9f0HHjY0jtM"
      }
    },
    {
      "cell_type": "code",
      "source": [
        "numero = 123\n",
        "\n",
        "# Sin '=': el relleno está antes del signo\n",
        "print(f\"Sin '=': {numero:+010}\")\n",
        "\n",
        "# Con '=': el relleno está después del signo\n",
        "print(f\"Con '=': {numero:=+10}\")"
      ],
      "metadata": {
        "id": "IDI8Y-7q0lAE"
      },
      "execution_count": null,
      "outputs": []
    },
    {
      "cell_type": "markdown",
      "source": [
        "### 🧐 Opciones Avanzadas de F-Strings\n",
        "\n",
        "Aquí puedes incorporar la información adicional que tenías.\n",
        "\n",
        "### Generación Dinámica de Opciones\n",
        "\n",
        "Las opciones de formato se pueden generar dinámicamente usando una expresión dentro de los corchetes de formato. Esto es útil cuando el formato depende de alguna lógica o variable."
      ],
      "metadata": {
        "id": "hIxA3UPQ0msI"
      }
    },
    {
      "cell_type": "code",
      "source": [
        "ancho = 10\n",
        "precision = 3\n",
        "mi_numero = 123.456789\n",
        "\n",
        "# El formato se construye dinámicamente\n",
        "print(f\"Número formateado dinámicamente: {mi_numero:{ancho}.{precision}f}\")\n",
        "# Salida: Número formateado dinámicamente:    123.457"
      ],
      "metadata": {
        "id": "U-hHKkzq0n7c"
      },
      "execution_count": null,
      "outputs": []
    },
    {
      "cell_type": "markdown",
      "source": [
        "### Mostrar la Expresión y el Resultado (`=`)\n",
        "\n",
        "Añadir `=` al final de la expresión dentro de la f-string imprimirá la expresión misma, un signo de igual y luego el resultado. Esto es excelente para depuración."
      ],
      "metadata": {
        "id": "K7P_wB0R0pSR"
      }
    },
    {
      "cell_type": "code",
      "source": [
        "x = 10\n",
        "y = 5\n",
        "\n",
        "print(f\"{x + y=}\")     # Salida: x + y=15\n",
        "print(f\"{x * y=}\")     # Salida: x * y=50\n",
        "\n",
        "# También funciona con variables directamente\n",
        "print(f\"{x=}\")         # Salida: x=10"
      ],
      "metadata": {
        "id": "SdIAfsnp0qll"
      },
      "execution_count": null,
      "outputs": []
    },
    {
      "cell_type": "markdown",
      "source": [
        "### 5. Caracteres Especiales y Rutas de Archivos\n",
        "\n",
        "Python entiende secuencias de escape para representar caracteres especiales.\n",
        "\n",
        "| Secuencia | Significado |\n",
        "| --- | --- |\n",
        "| `\\n` | Nueva Línea |\n",
        "| `\\t` | Tabulación |\n",
        "| `\\'` | Comilla Simple |\n",
        "| `\\\"` | Comilla Doble |\n",
        "| `\\\\` | Barra Invertida |"
      ],
      "metadata": {
        "id": "l1Z2rQ1C0sMA"
      }
    },
    {
      "cell_type": "code",
      "source": [
        "print(\"Primera línea\\nSegunda línea\")\n",
        "print(\"\\tEste texto está indentado.\")\n",
        "print('Para usar comillas simples dentro de comillas simples, debes \\'escaparlas\\'.')"
      ],
      "metadata": {
        "id": "E-GqFMi10t-2"
      },
      "execution_count": null,
      "outputs": []
    },
    {
      "cell_type": "markdown",
      "source": [
        "### Representación \"Raw\" de Objetos (`!r`)\n",
        "\n",
        "El modificador `!r` convierte un objeto a su representación \"raw\" (cruda) llamando a su método `repr()`. Esto es útil para ver la representación inequívoca de una variable, especialmente cadenas."
      ],
      "metadata": {
        "id": "bAwwVSUo0vMj"
      }
    },
    {
      "cell_type": "code",
      "source": [
        "mi_cadena = \"Hola\\nMundo\"\n",
        "mi_lista = [1, 2, 3]\n",
        "\n",
        "print(f\"Cadena normal: {mi_cadena}\")     # Salida: Cadena normal: Hola\n",
        "                                         #                       Mundo\n",
        "print(f\"Cadena con !r: {mi_cadena!r}\")   # Salida: Cadena con !r: 'Hola\\nMundo'\n",
        "print(f\"Lista con !r: {mi_lista!r}\")     # Salida: Lista con !r: [1, 2, 3]"
      ],
      "metadata": {
        "id": "GIl6-I5j0wp2"
      },
      "execution_count": null,
      "outputs": []
    },
    {
      "cell_type": "markdown",
      "source": [
        "### Cadenas \"Raw\" para Rutas de Archivos\n",
        "\n",
        "Para evitar el problema de las barras invertidas en rutas de Windows, usa una **cadena cruda (raw string)**, que ignora los caracteres de escape."
      ],
      "metadata": {
        "id": "S6Hz1Eu00zaG"
      }
    },
    {
      "cell_type": "code",
      "source": [
        "# Forma tradicional (propensa a errores)\n",
        "print(\"Ruta: C:\\\\Users\\\\Usuario\\\\Desktop\")\n",
        "\n",
        "# Forma moderna y segura con raw string (r\"...\")\n",
        "print(r\"Ruta: C:\\Users\\Usuario\\Desktop\")"
      ],
      "metadata": {
        "id": "oEsas7E200lV"
      },
      "execution_count": null,
      "outputs": []
    },
    {
      "cell_type": "markdown",
      "source": [
        "### 6. Técnicas Avanzadas\n",
        "\n",
        "### Desempaquetar una Lista o Tupla con\n",
        "\n",
        "Puedes imprimir todos los elementos de un iterable de forma elegante usando el operador `*`."
      ],
      "metadata": {
        "id": "Xwd42_JZ02C8"
      }
    },
    {
      "cell_type": "code",
      "source": [
        "mis_frutas = [\"manzana\", \"banano\", \"cereza\"]\n",
        "\n",
        "print(*mis_frutas)\n",
        "# Salida: manzana banano cereza\n",
        "\n",
        "print(*mis_frutas, sep=\", \")\n",
        "# Salida: manzana, banano, cereza"
      ],
      "metadata": {
        "id": "2aSV0Fj503IZ"
      },
      "execution_count": null,
      "outputs": []
    },
    {
      "cell_type": "markdown",
      "source": [
        "### Imprimir en la Salida de Error (`stderr`)\n",
        "\n",
        "En scripts y aplicaciones, es una buena práctica separar la salida normal de los mensajes de error. La salida normal va a `stdout`, mientras que los errores deberían ir a `stderr`."
      ],
      "metadata": {
        "id": "167f9NSF04hJ"
      }
    },
    {
      "cell_type": "code",
      "source": [
        "import sys\n",
        "\n",
        "print(\"Información: El proceso ha comenzado.\")\n",
        "\n",
        "# Usamos file=sys.stderr para dirigir el mensaje a la salida de error\n",
        "error_critico = \"No se pudo conectar a la base de datos.\"\n",
        "print(f\"ERROR: {error_critico}\", file=sys.stderr)"
      ],
      "metadata": {
        "id": "IzQIo47c05sa"
      },
      "execution_count": null,
      "outputs": []
    },
    {
      "cell_type": "markdown",
      "source": [
        "Esto permite que un usuario pueda guardar la salida normal en un archivo y aun así ver los mensajes de error en la consola.\n",
        "\n",
        "### Tabla Comparativa de Métodos de Impresión y Formateo\n",
        "\n",
        "Aquí tienes una tabla que resume las diferencias clave entre los métodos que hemos visto, para que sea fácil de enseñar.\n",
        "\n",
        "| Característica | Concatenación `+` | Múltiples Argumentos en `print()` | Método `.format()` | F-Strings (Recomendado) |\n",
        "| --- | --- | --- | --- | --- |\n",
        "| **Rendimiento** | 📉 **Bajo**. El peor en bucles por crear objetos intermedios. | ✅ **Alto**. Muy eficiente para la función `print`. | 👍 **Bueno**. Mucho mejor que la concatenación. | 🚀 **El más alto**. Es el método más rápido. |\n",
        "| **Legibilidad** | 🧐 **Baja**. Requiere añadir espacios manualmente (`\" \"`) y puede volverse difícil de leer. | ✅ **Alta**. Muy claro para salidas sencillas sin formato complejo. | 🧐 **Media**. Separa las variables de su posición en el texto, lo que puede dificultar la lectura. | 🚀 **La más alta**. Las variables se insertan directamente en el lugar que ocupan, haciendo el código muy intuitivo. |\n",
        "| **Caso de Uso Principal** | Unir dos o tres cadenas como máximo. **Evitar a toda costa dentro de bucles.** | Imprimir rápidamente varias variables sin necesidad de un formato de cadena específico. | Código antiguo (legacy) o cuando la plantilla de texto se almacena en una variable separada. | **La opción preferida y moderna** para casi todas las situaciones en Python 3.6 en adelante. Ideal por su claridad y velocidad. |\n",
        "| **Ejemplo** | `print(nombre + \" tiene \" + str(edad) + \" años.\")` | `print(nombre, \"tiene\", edad, \"años.\")` | `print(\"{} tiene {} años.\".format(nombre, edad))` | `print(f\"{nombre} tiene {edad} años.\")` |\n",
        "\n",
        "---\n",
        "\n",
        "### Conclusión para Enseñar\n",
        "\n",
        "La regla general es simple:\n",
        "\n",
        "- **Usa f-strings (`f\"...\"`) como tu método predeterminado.** Es la forma más Pythónica, rápida y legible de construir cadenas de texto en versiones modernas del lenguaje.\n",
        "- **Usa `print(a, b, c)`** cuando solo necesites una salida rápida y simple separada por espacios.\n",
        "- **Evita la concatenación con `+`** para más de dos elementos o dentro de cualquier tipo de bucle.\n",
        "\n",
        "# Muy Fácil? Pruébalo\n",
        "\n",
        "[fstrings.wtf - Python F-String Quiz](https://fstrings.wtf/)\n",
        "\n",
        "[GitHub - mitsuhiko/fstrings-wtf: Do you understand f-strings?](https://github.com/mitsuhiko/fstrings-wtf)\n",
        "\n",
        "# 💬 Comentarios\n",
        "\n",
        "## ¿Cómo se usan los comentarios en Python?\n",
        "\n",
        "Los comentarios en Python se crean utilizando el símbolo `#`, y se usan para anotar y explicar el código. Las líneas comentadas no son ejecutadas por Python. Por ejemplo, `# Este es un comentario` es una línea que Python ignora durante la ejecución.\n",
        "\n",
        "**Comentario de una sola línea (`#`)**: Es el método estándar y recomendado."
      ],
      "metadata": {
        "id": "cYGOtWru082x"
      }
    },
    {
      "cell_type": "code",
      "source": [
        "# Esto es un comentario. Python lo ignora."
      ],
      "metadata": {
        "id": "MnU_5Lqp09c0"
      },
      "execution_count": null,
      "outputs": []
    },
    {
      "cell_type": "markdown",
      "source": [
        "**Comentario Multilínea (Práctica recomendada)**: Para comentarios que ocupan varias líneas, la convención es usar un `#` al inicio de cada una."
      ],
      "metadata": {
        "id": "8D-gNWpa1DnU"
      }
    },
    {
      "cell_type": "code",
      "source": [
        "# Este es un comentario más largo\n",
        "# que necesita ocupar varias líneas\n",
        "# para una mejor explicación."
      ],
      "metadata": {
        "id": "_w0yXTBu1FpF"
      },
      "execution_count": null,
      "outputs": []
    },
    {
      "cell_type": "markdown",
      "source": [
        "**Docstrings (**`''' ... '''` o `\"\"\" ... \"\"\"`**)**: No son técnicamente comentarios, sino cadenas de texto multilínea. Su uso correcto es para **documentar** funciones, clases o módulos. Python la ignora si no está asignada a una variable o si no es la primera línea de una función/clase/módulo. Aunque se usa para \"comentar\" bloques, es bueno saber la diferencia."
      ],
      "metadata": {
        "id": "f6uAsyEb1HL1"
      }
    },
    {
      "cell_type": "code",
      "source": [
        "'''\n",
        "\tEsto es un comentario largo\n",
        "\tMultilinea\n",
        "'''\n",
        "\n",
        "def suma(a, b):\n",
        "    \"\"\"\n",
        "    Esta función suma dos números y devuelve el resultado.\n",
        "\n",
        "    Args:\n",
        "        a (int): El primer número.\n",
        "        b (int): El segundo número.\n",
        "\n",
        "    Returns:\n",
        "        int: La suma de a y b.\n",
        "    \"\"\"\n",
        "    return a + b"
      ],
      "metadata": {
        "id": "QZa7B__31IeN"
      },
      "execution_count": null,
      "outputs": []
    },
    {
      "cell_type": "markdown",
      "source": [
        "**Comentarios de Tareas (`TODO`)**: Es una convención común para marcar tareas pendientes."
      ],
      "metadata": {
        "id": "waPrlzNV1KHz"
      }
    },
    {
      "cell_type": "code",
      "source": [
        "# TODO: Obtener los datos desde un archivo CSV en lugar de la lista hardcodeada."
      ],
      "metadata": {
        "id": "875ZKzbf1NpD"
      },
      "execution_count": null,
      "outputs": []
    },
    {
      "cell_type": "markdown",
      "source": [
        "# ⌨️ Entrada y Salida (Input and Output)\n",
        "\n",
        "## **Entrada de Datos (Input):**\n",
        "\n",
        "- Para obtener información del usuario desde el teclado, puedes usar la función `input()`.\n",
        "- Esta función espera a que ingreses texto en la consola y presiones “Enter”. Luego, guarda el valor capturado en una variable.\n",
        "- **Regla de oro**: siempre devuelve una cadena de texto (`str`), por lo que a menudo necesitarás convertir el tipo de dato. Ejemplo:"
      ],
      "metadata": {
        "id": "Eyy_G5dI1PNA"
      }
    },
    {
      "cell_type": "code",
      "source": [
        "\n",
        "\n",
        "nombre = input(\"Ingresa tu nombre: \")\n",
        "print(f\"Hola, {nombre}!\")\n",
        "\n",
        "edad_str = input('Cual es tu edad? ')\n",
        "print(type(edad_str))\n",
        "\n",
        "# Es crucial convertir la cadena a un número para hacer cálculos\n",
        "edad_num = int(edad_str)\n",
        "print(f\"Tu edad es {edad_num}. El próximo año tendrás {edad_num + 1}.\")\n",
        "print(f\"El tipo de dato original de la edad era: {type(edad_str)}\")"
      ],
      "metadata": {
        "id": "OGm4wf6A1QOW"
      },
      "execution_count": null,
      "outputs": []
    },
    {
      "cell_type": "markdown",
      "source": [
        "## **Salida de Datos (Output):**\n",
        "\n",
        "- La función `print()` es la forma más común de mostrar información en la consola.\n",
        "- Puedes imprimir valores separados por espacios o darles formato específico.\n",
        "- Ejemplo:`resultado = 42` `print(\"El resultado es:\"`, resultado)"
      ],
      "metadata": {
        "id": "FxvveZGt1SzR"
      }
    },
    {
      "cell_type": "code",
      "source": [
        "resultado = 42\n",
        "print(\"El resultado es:\", resultado)"
      ],
      "metadata": {
        "id": "tVbZdPxU1UQN"
      },
      "execution_count": null,
      "outputs": []
    },
    {
      "cell_type": "markdown",
      "source": [
        "## **✨ Formato Elegante de Salida:**\n",
        "\n",
        "- Puedes usar literales de cadena formateados (f-strings) o el método `str.format()` para controlar el formato de la salida. Ejemplo con f-strings:"
      ],
      "metadata": {
        "id": "bnYWG2a71Vcy"
      }
    },
    {
      "cell_type": "code",
      "source": [
        "# Ejemplo con f-strings (recomendado)\n",
        "year = 2022\n",
        "event = \"Elecciones\"\n",
        "print(f\"Resultados de las {year} {event}\")\n",
        "\n",
        "# Ejemplo con el mini-lenguaje de formato\n",
        "yes_votes = 42_572_654\n",
        "total_votes = 85_705_149\n",
        "percentage = yes_votes / total_votes\n",
        "# Usando f-string para el mismo formato complejo:\n",
        "print(f\"{yes_votes:<9} YES votes   {percentage:2.2%}\")"
      ],
      "metadata": {
        "id": "ufPlHcuq1WmF"
      },
      "execution_count": null,
      "outputs": []
    },
    {
      "cell_type": "markdown",
      "source": [
        "## **⚙️ Ejecución de Comandos del Sistema:**\n",
        "\n",
        "Para ejecutar comandos del sistema, la práctica moderna y segura es usar el módulo `subprocess` en lugar del antiguo `os.system()`."
      ],
      "metadata": {
        "id": "zWFyIrML1Ykp"
      }
    },
    {
      "cell_type": "code",
      "source": [
        "import subprocess # Módulo moderno y recomendado\n",
        "\n",
        "# Ejecutar un comando simple en la consola (en Linux/Mac)\n",
        "# En Windows, sería: subprocess.run(['cmd', '/c', 'dir'])\n",
        "resultado = subprocess.run(['ls', '-l'], capture_output=True, text=True)\n",
        "\n",
        "# Podemos inspeccionar la salida capturada\n",
        "print(\"Salida del comando:\\n\", resultado.stdout)"
      ],
      "metadata": {
        "id": "zd5tt81A1Z-E"
      },
      "execution_count": null,
      "outputs": []
    },
    {
      "cell_type": "markdown",
      "source": [
        "- Además de entrada y salida, puedes ejecutar comandos directamente desde tu script de Python utilizando la función `os.system()`. Esta también permite interactuar con el sistema operativo y ejecutar programas externos desde tu código."
      ],
      "metadata": {
        "id": "MvhitFjC1bm9"
      }
    },
    {
      "cell_type": "code",
      "source": [
        "import os # Libreria para obtener acceso al S.O (Archivos, Rutas, EOL)\n",
        "\n",
        "# Ejecutar un comando simple en la consola\n",
        "os.system('echo Hello, World!')\n",
        "\n",
        "# Crear un directorio\n",
        "os.system('mkdir new_directory')\n",
        "\n",
        "# Listar los archivos en el directorio actual\n",
        "os.system('ls')  # En Windows, usa 'dir' en lugar de 'ls'\n",
        "\n",
        "# Ejecutar un programa externo (en este caso, abrir el bloc de notas en Windows)\n",
        "os.system('notepad')  # En Linux/Mac, puedes usar 'gedit' o cualquier otro editor de texto\n",
        "\n",
        "# Obtener una variable del sistema\n",
        "print(\"Hola, esto es python\", 12+5, \" \", 10-5, 2*3, 8/2, sep=os.linesep)"
      ],
      "metadata": {
        "id": "VLHRg_521c2M"
      },
      "execution_count": null,
      "outputs": []
    },
    {
      "cell_type": "markdown",
      "source": [
        "### **🚀 Ejecución de Script Python por Consola**\n",
        "\n",
        "El módulo `sys` permite interactuar con los argumentos pasados a un script al ejecutarlo."
      ],
      "metadata": {
        "id": "4LDqqlLM1epQ"
      }
    },
    {
      "cell_type": "code",
      "source": [
        "import sys\n",
        "\n",
        "# sys.argv es una lista de cadenas de texto con los argumentos\n",
        "# sys.argv[0] es siempre el nombre del script\n",
        "\n",
        "# 1. Validar que se pasaron suficientes argumentos\n",
        "if len(sys.argv) < 3:\n",
        "    print(f\"Error: Debes proporcionar dos números.\", file=sys.stderr)\n",
        "    print(f\"Uso: python {sys.argv[0]} <numero1> <numero2>\", file=sys.stderr)\n",
        "    sys.exit(1) # Termina el script con un código de error\n",
        "\n",
        "# 2. Los argumentos son cadenas, hay que convertirlos a números\n",
        "try:\n",
        "    num1 = int(sys.argv[1])\n",
        "    num2 = int(sys.argv[2])\n",
        "    print(f\"La suma de los números es: {num1 + num2}\")\n",
        "except ValueError:\n",
        "    print(\"Error: Ambos argumentos deben ser números enteros.\", file=sys.stderr)"
      ],
      "metadata": {
        "id": "2CSbB_y21f2J"
      },
      "execution_count": null,
      "outputs": []
    },
    {
      "cell_type": "markdown",
      "source": [
        "### 🛑 ¿Por qué evitar `os.system()` en Python moderno?\n",
        "\n",
        "| Aspecto | `os.system()` 🧨 | Alternativa recomendada ✅ `subprocess` |\n",
        "| --- | --- | --- |\n",
        "| 🔒 Seguridad | Vulnerable a *shell injection* si se interpolan variables | Más seguro: evita ejecución directa en shell |\n",
        "| 📤 Captura de salida | No permite capturar fácilmente stdout/stderr | Permite redirigir y capturar salidas con `subprocess.run()` |\n",
        "| 🔄 Control de errores | Solo devuelve el código de salida del sistema | Permite manejar excepciones (`CalledProcessError`) |\n",
        "| 🧠 Portabilidad | Depende del shell del sistema operativo | Más portable entre sistemas (Windows, Unix) |\n",
        "| 🧩 Composición de comandos | Difícil de construir comandos complejos | Permite pasar argumentos como lista (`[\"ls\", \"-l\"]`) |\n",
        "| 🧪 Testing y depuración | Difícil de testear o simular | Compatible con mocks y pruebas unitarias |\n",
        "\n",
        "### 🧠 Ejemplo comparativo"
      ],
      "metadata": {
        "id": "RlM4VRfo1hwd"
      }
    },
    {
      "cell_type": "code",
      "source": [
        "import os\n",
        "os.system(\"echo Hola Mundo\")  # No captura salida\n",
        "\n",
        "import subprocess\n",
        "resultado = subprocess.run([\"echo\", \"Hola Mundo\"], capture_output=True, text=True)\n",
        "print(resultado.stdout)  # Captura y muestra la salida"
      ],
      "metadata": {
        "id": "8y9riJvE1jEY"
      },
      "execution_count": null,
      "outputs": []
    },
    {
      "cell_type": "markdown",
      "source": [
        "## **🚀 Ejecución de Script Python por Consola**\n",
        "\n",
        "El módulo `sys` permite interactuar con los argumentos pasados a un script al ejecutarlo."
      ],
      "metadata": {
        "id": "2_FYvt181kJh"
      }
    },
    {
      "cell_type": "code",
      "source": [
        "import sys\n",
        "\n",
        "# sys.argv es una lista de cadenas de texto con los argumentos\n",
        "# sys.argv[0] es siempre el nombre del script\n",
        "print(f\"Bienvenido al script: {sys.argv[0]}\")\n",
        "\n",
        "# 1. Validar que se pasaron suficientes argumentos\n",
        "if len(sys.argv) < 3:\n",
        "    print(f\"Error: Debes proporcionar dos números.\", file=sys.stderr)\n",
        "    print(f\"Uso: python {sys.argv[0]} <numero1> <numero2>\", file=sys.stderr)\n",
        "    sys.exit(1) # Termina el script con un código de error\n",
        "\n",
        "# 2. Los argumentos son cadenas, hay que convertirlos a números\n",
        "try:\n",
        "    num1 = int(sys.argv[1])\n",
        "    num2 = int(sys.argv[2])\n",
        "    print(f\"La suma de los números es: {num1 + num2}\")\n",
        "except ValueError:\n",
        "    print(\"Error: Ambos argumentos deben ser números enteros.\", file=sys.stderr)"
      ],
      "metadata": {
        "id": "b7hoVoXW1lTt"
      },
      "execution_count": null,
      "outputs": []
    },
    {
      "cell_type": "markdown",
      "source": [
        "# 📦 Variables en Python\n",
        "\n",
        "Una variable es un nombre que se refiere a un valor en la memoria. Funciona como un contenedor etiquetado donde puedes guardar datos para usarlos y modificarlos a lo largo de tu programa.\n",
        "\n",
        "### 📜 Reglas para Nombrar Variables\n",
        "\n",
        "Para que un nombre de variable sea válido en Python, debe seguir estas reglas:\n",
        "\n",
        "- Son **Case-Sensitive**: `nombre` es una variable diferente a `Nombre`.\n",
        "- Deben empezar con una **letra** (a-z, A-Z) o un **guion bajo** (`_`).\n",
        "- **No pueden empezar con un número**.\n",
        "- El resto del nombre solo puede contener letras, números y guiones bajos.\n",
        "- **No pueden contener espacios** ni otros caracteres especiales como , -  o `+`.\n",
        "- No se pueden usar **palabras reservadas** del lenguaje (como `if`, `for`, `True`, `def`, etc.)."
      ],
      "metadata": {
        "id": "EY_sxLCH1nFJ"
      }
    },
    {
      "cell_type": "code",
      "source": [
        "# Puedes ver la lista completa de palabras reservadas así:\n",
        "import keyword\n",
        "print(keyword.kwlist)\n",
        "\n",
        "# O accediendo a la ayuda de python\n",
        "# python\n",
        "# help()\n",
        "# keywords"
      ],
      "metadata": {
        "id": "pGvuWSle1oZy"
      },
      "execution_count": null,
      "outputs": []
    },
    {
      "cell_type": "markdown",
      "source": [
        "**Ejemplos Válidos ✅**"
      ],
      "metadata": {
        "id": "h6_pmarJ1piC"
      }
    },
    {
      "cell_type": "code",
      "source": [
        "nombre_usuario = \"Diego\"\n",
        "_intentos = 10  # Un guion bajo al inicio sugiere que es para uso interno (convención)\n",
        "contrato25 = True"
      ],
      "metadata": {
        "id": "BsuPEEdJ1qlz"
      },
      "execution_count": null,
      "outputs": []
    },
    {
      "cell_type": "markdown",
      "source": [
        "**Ejemplos Inválidos ❌**"
      ],
      "metadata": {
        "id": "9FIMEQfj1siA"
      }
    },
    {
      "cell_type": "code",
      "source": [
        "# True = \"Flaco\"         # Error: 'True' es una palabra reservada\n",
        "# 25contrato = False     # Error: No puede empezar con un número\n",
        "# nom*bre = 'Juan'       # Error: Contiene un caracter especial (*)\n",
        "# e-dad = 34             # Error: Contiene un guion (-)"
      ],
      "metadata": {
        "id": "uRzH8hX11uKc"
      },
      "execution_count": null,
      "outputs": []
    },
    {
      "cell_type": "markdown",
      "source": [
        "### 🎨 Buenas Prácticas de Estilo (PEP 8)\n",
        "\n",
        "- **Nombres descriptivos**: Usa nombres que expliquen el propósito de la variable (ej. `tasa_interes` en lugar de `t`).\n",
        "- **Formato `snake_case`**: Para nombres de variables compuestos, usa minúsculas separadas por guiones bajos."
      ],
      "metadata": {
        "id": "PjaaJ8j-1v9D"
      }
    },
    {
      "cell_type": "code",
      "source": [
        "# Recomendado\n",
        "primer_nombre = \"Carlos\"\n",
        "\n",
        "# No recomendado (aunque es válido)\n",
        "primerNombre = \"Carlos\""
      ],
      "metadata": {
        "id": "KWVMFS_M1yOj"
      },
      "execution_count": null,
      "outputs": []
    },
    {
      "cell_type": "markdown",
      "source": [
        "### 🔄 Asignación y Tipado Dinámico\n",
        "\n",
        "Python es un lenguaje **dinámicamente tipado**. Esto significa que no necesitas declarar el tipo de una variable; el tipo se determina automáticamente por el valor que le asignas.\n",
        "\n",
        "- **Asignación simple (`=`)**: El signo igual se usa para asignar un valor.\n",
        "- **Reasignación**: Puedes cambiar el valor y el tipo de una variable en cualquier momento."
      ],
      "metadata": {
        "id": "9SnwnDPa16IQ"
      }
    },
    {
      "cell_type": "code",
      "source": [
        "# Python infiere que 'x' es un entero (int)\n",
        "x = 10\n",
        "print(type(x)) # Salida: <class 'int'>\n",
        "\n",
        "# Ahora reasignamos 'x' a una cadena de texto (str)\n",
        "x = 'Hola Mundo'\n",
        "print(type(x)) # Salida: <class 'str'>\n",
        "\n",
        "x = 23.0 # Asigando un float\n",
        "print(type(x)) # Salida: <class 'str'>\n",
        "x = True # Asignando un boolean\n",
        "print(type(x)) # Salida: <class 'str'>"
      ],
      "metadata": {
        "id": "BgBDR9aa17H5"
      },
      "execution_count": null,
      "outputs": []
    },
    {
      "cell_type": "markdown",
      "source": [
        "- **Asignación Múltiple**: Python permite asignar valores a varias variables en una sola línea, una característica muy eficiente."
      ],
      "metadata": {
        "id": "lY5AmVYe19is"
      }
    },
    {
      "cell_type": "code",
      "source": [
        "a, b, c = 4, 3, 2\n",
        "nombre, edad, sueldo = \"Carlos\", 45, 250000.89\n",
        "name = \"Diego\"; last_name = \"Ojeda\" # Tambien se asiganan varias variables\n",
        "\n",
        "print(f\"Nombre: {nombre}, Edad: {edad}, Sueldo: {sueldo}\")\n",
        "# Salida: Nombre: Carlos, Edad: 45, Sueldo: 250000.89\n",
        "print(f\"Nombre: {type(nombre)}, Edad: {type(edad)}, Sueldo: {type(sueldo)}\")\n",
        "# Nombre: <class 'str'>, Edad: <class 'int'>, Sueldo: <class 'float'>"
      ],
      "metadata": {
        "id": "QRYGYe0F1-sT"
      },
      "execution_count": null,
      "outputs": []
    },
    {
      "cell_type": "markdown",
      "source": [
        "# 📊 Tipos de Datos Primitivos en Python\n",
        "\n",
        "En Python, un **tipo de dato** se refiere a la categoría a la que pertenece un valor, lo que define qué tipo de operaciones se pueden realizar sobre él. Se puede verificar con la función `type()`.\n",
        "\n",
        "---\n",
        "\n",
        "### 🔡 Cadenas de Texto (`str`)\n",
        "\n",
        "Representan texto y se pueden definir con comillas simples (`'`) o dobles (`\"`).\n",
        "\n",
        "**Características Clave:**\n",
        "\n",
        "- **Son Inmutables**: Una vez creada una cadena, no se puede modificar. Cualquier operación que parezca modificarla en realidad crea una nueva cadena.\n",
        "- **Son Iterables**: Se puede acceder a sus caracteres por su índice (posición)."
      ],
      "metadata": {
        "id": "v9zUy_kz2AW0"
      }
    },
    {
      "cell_type": "code",
      "source": [
        "mi_nombre = \"Diego\"\n",
        "print('Tu nombre es: ', mi_nombre)\n",
        "print(type(mi_nombre))\n",
        "print(f\"El primer caracter es: {mi_nombre[0]}\") # Salida: D"
      ],
      "metadata": {
        "id": "0yBcOX-W2BgV"
      },
      "execution_count": null,
      "outputs": []
    },
    {
      "cell_type": "markdown",
      "source": [
        "**Formateo y Concatenación**\n",
        "\n",
        "> La forma moderna y recomendada es usar f-strings por su legibilidad y rendimiento.\n",
        ">"
      ],
      "metadata": {
        "id": "4fr2t7MV2CnX"
      }
    },
    {
      "cell_type": "code",
      "source": [
        "name = \"Diego\"\n",
        "last_name = \"Ojeda\"\n",
        "\n",
        "# Usando f-strings (Recomendado)\n",
        "template = f\"Hola, mi nombre es {name} y mi apellido es {last_name}\"\n",
        "print('v3', template)\n",
        "\n",
        "# Métodos más antiguos\n",
        "template = \"Hola, mi nombre es {} y mi apellido es {}\".format(name, last_name)\n",
        "print('v2', template)\n",
        "\n",
        "template = \"Hola, mi nombre es \" + name + \" y mi apellido es \" + last_name\n",
        "print('v1 ', template)"
      ],
      "metadata": {
        "id": "3y83O6iq2DwF"
      },
      "execution_count": null,
      "outputs": []
    },
    {
      "cell_type": "markdown",
      "source": [
        "---\n",
        "\n",
        "**Operaciones Útiles**"
      ],
      "metadata": {
        "id": "tDnRjq1k2F74"
      }
    },
    {
      "cell_type": "code",
      "source": [
        "# Multiplicación\n",
        "saludo = \"Ja \" * 3 + 'mes'  # 'Ja Ja Ja mes'\n",
        "\n",
        "# Cadenas \"Raw\" para anular caracteres de escape (útil en rutas de Windows)\n",
        "ruta = r'C:\\Users\\name'\n",
        "print(ruta)\n",
        "\n",
        "# Cadenas multilínea con triples comillas\n",
        "mensaje_largo = \"\"\"Esto es un mensaje\n",
        "que ocupa varias\n",
        "líneas.\"\"\"\n",
        "print(mensaje_largo)"
      ],
      "metadata": {
        "id": "cQq-Tl4L2HXM"
      },
      "execution_count": null,
      "outputs": []
    },
    {
      "cell_type": "markdown",
      "source": [
        "---\n",
        "\n",
        "### 🔢 Tipos Numéricos\n",
        "\n",
        "### **Enteros (`int`)**\n",
        "\n",
        "Representan números sin parte decimal. En Python, no tienen un límite práctico de tamaño."
      ],
      "metadata": {
        "id": "QAlnY1ga2Jtk"
      }
    },
    {
      "cell_type": "code",
      "source": [
        "vidas = 10\n",
        "vidas -= 1 # Operador de asignación compuesta\n",
        "print(vidas) # Salida: 9\n",
        "print(type(vidas))"
      ],
      "metadata": {
        "id": "qPWR8nY02KjX"
      },
      "execution_count": null,
      "outputs": []
    },
    {
      "cell_type": "markdown",
      "source": [
        "### **Decimales (`float`)**\n",
        "\n",
        "Representan números con parte decimal. Cualquier operación aritmética que involucre un `float` dará como resultado otro `float`.\n",
        "\n",
        "La notación científica se emplea para representar números muy grandes o muy pequeños de manera compacta. Por ejemplo, `1e6` representa 1,000,000 y `1e-6` representa 0.000001. Esta notación es útil en cálculos científicos y financieros, donde los números pueden variar significativamente en magnitud."
      ],
      "metadata": {
        "id": "oWvsrisP2MgX"
      }
    },
    {
      "cell_type": "code",
      "source": [
        "temperatura = 12.12\n",
        "print('Mi temperatura =>', temperatura)\n",
        "temperatura *= 3\n",
        "print(type(temperatura)) # Salida: <class 'float'>\n",
        "\n",
        "# Notación científica para números muy grandes o pequeños\n",
        "presupuesto = 1.5e6 # 1.5 * 10^6 = 1,500,000.0\n",
        "print(presupuesto)"
      ],
      "metadata": {
        "id": "KuHsj5xg2Nj3"
      },
      "execution_count": null,
      "outputs": []
    },
    {
      "cell_type": "markdown",
      "source": [
        "### **Complejos (`complex`)**\n",
        "\n",
        "Representan números con una parte real y una imaginaria, indicadas con una `j`."
      ],
      "metadata": {
        "id": "HFPUUUn02Puo"
      }
    },
    {
      "cell_type": "code",
      "source": [
        "z = 3 + 2j\n",
        "print('Z =>', z)\n",
        "print(type(z)) # Salida: <class 'complex'>\n",
        "print(f\"Parte real: {z.real}, Parte imaginaria: {z.imag}\")"
      ],
      "metadata": {
        "id": "CWWoi-WZ2QxF"
      },
      "execution_count": null,
      "outputs": []
    },
    {
      "cell_type": "markdown",
      "source": [
        "### ✅ Booleanos (`bool`)\n",
        "\n",
        "Representan uno de dos valores: `True` o `False`. Son la base de la lógica y el control de flujo."
      ],
      "metadata": {
        "id": "GJRjQZI-2SUN"
      }
    },
    {
      "cell_type": "code",
      "source": [
        "esta_activo = True\n",
        "print('Activo? ', esta_activo )\n",
        "print(type(esta_activo ))\n",
        "print(not esta_activo) # Negacion Salida: False"
      ],
      "metadata": {
        "id": "g171EO1O2TWw"
      },
      "execution_count": null,
      "outputs": []
    },
    {
      "cell_type": "markdown",
      "source": [
        "**\"Truthiness\" o Valor de Verdad**\n",
        "\n",
        "> En Python, casi cualquier valor puede ser evaluado como un booleano, lo cual es muy útil en condicionales.\n",
        ">\n",
        "- **Se evalúan como `False`**: `0`, `0.0`, `\"\"` (cadena vacía), `[]` (lista vacía), `None`.\n",
        "- **Se evalúan como `True`**: Cualquier otro número, cadenas no vacías, listas con elementos.\n",
        "\n",
        "---\n",
        "\n",
        "### 🔄 Conversión de Tipos (Casting)\n",
        "\n",
        "Es el proceso de convertir explícitamente un valor de un tipo de dato a otro."
      ],
      "metadata": {
        "id": "YfGtEcNX2V_3"
      }
    },
    {
      "cell_type": "code",
      "source": [
        "# Castear a string\n",
        "numero_como_cadena = str(123) # \"123\"\n",
        "\n",
        "# Castear a entero\n",
        "cadena_a_entero = int(\"45\") # 45\n",
        "\n",
        "# Castear a float\n",
        "entero_a_float = float(10) # 10.0\n",
        "\n",
        "# Castear a booleano\n",
        "numero_a_booleano = bool(0) # False"
      ],
      "metadata": {
        "id": "xwkYn9YB2XTM"
      },
      "execution_count": null,
      "outputs": []
    },
    {
      "cell_type": "markdown",
      "source": [
        "> Advertencia: Si una conversión no es posible (ej. int(\"hola\")), Python lanzará un error ValueError.\n",
        ">\n",
        "\n",
        "# ⚙️ Operadores en Python\n",
        "\n",
        "Un operador es un símbolo que le dice al intérprete que realice una operación específica, como aritmética, comparación o lógica.\n",
        "\n",
        "### ➕ Operadores Aritméticos\n",
        "\n",
        "Se usan para realizar operaciones matemáticas.\n",
        "\n",
        "| Operador | Nombre | Ejemplo Numérico | Ejemplo con Cadenas |\n",
        "| --- | --- | --- | --- |\n",
        "| **`+`** | Suma / Adición | `10 + 5` → `15` | `'Hola' + ' ' + 'Mundo'` → `'Hola Mundo'` |\n",
        "| **`-`** | Resta | `10 - 5` → `5` | No aplica |\n",
        "| **`*`** | Multiplicación | `10 * 2` → `20` | `'Ja' * 3` → `'JaJaJa'` |\n",
        "| **`/`** | División | `10 / 3` → `3.333` | No aplica |\n",
        "| **`//`** | División Entera | `10 // 3` → `3` | No aplica |\n",
        "| **`%`** | Módulo (Resto) | `10 % 3` → `1` | No aplica |\n",
        "| **`**`** | Potenciación | `10 ** 2` → `100` | No aplica |"
      ],
      "metadata": {
        "id": "NetaxM092ZVQ"
      }
    },
    {
      "cell_type": "code",
      "source": [
        "# Suma o Adición el operador tambien es usado para concatenar\n",
        "result = 12 + 3 + 5 # 20\n",
        "result2 = result + 3 # 23\n",
        "result = 12.6 + 45.12 + 12 # 69.72\n",
        "# result = 12.5 + 34 + \"18\" # Error\n",
        "result = \"18\" + \"15\" # 1815\n",
        "\n",
        "# Resta o Substraccion\n",
        "resta = 10 - 5 - 7 # -2\n",
        "resta2 = resta - 3 # -5\n",
        "result = 12.6 - 45.12 - 12 #\n",
        "# result = 12.5 - 34 - \"18\" # Error\n",
        "# result = \"18\" - \"15\" # Error\n",
        "x = max(0, 10 - 15) # Forzar un minimo para la resta (x = 0)\n",
        "\n",
        "# Multiplicacion el operador tambien es usado para multiplicar cadenas\n",
        "num = 3 * 3 * 2\n",
        "num2 = num * 2\n",
        "num = 12.6 * 45.12 * 12\n",
        "# result = 12.5 * 34 * \"18\" # Error\n",
        "# result = \"18\" * \"15\" # Error\n",
        "result = \"18\" * 3 # 181818 (cadena * n)\n",
        "result = \"ja \" * 3 + \"mes\" # ja ja ja mes\n",
        "x = abs(-5) * 3 # Forzar resultado positivo\n",
        "\n",
        "# Potenciacion\n",
        "num = 3 ** 2 ** 1 # 9\n",
        "num2 = num ** 4 # 6561\n",
        "num = 12.6 ** 1.1 ** -2 # 8.117029880977896\n",
        "# result = 12.5 ** 2 ** \"18\" # Error\n",
        "x = abs(-5) ** 3 # Forzar resultado positivo 125\n",
        "\n",
        "# Division\n",
        "num = 18 / 2 / 2\n",
        "num2 = num / 2\n",
        "num = 12.6 / 1.1 / 2\n",
        "# result = 120.5 / 1.2 / \"18\" # Error\n",
        "# result = \"18\" / \"15\" # Error\n",
        "# result = \"18\" / 3 # Error\n",
        "x = abs(-5) * 3 # Forzar resultado positivo\n",
        "divmod(7, 3) # 7 / 3 obteniendo cociente y resto (2,1)\n",
        "round(5 / 2) # redondear a un entero (2)\n",
        "\n",
        "# Division entera\n",
        "num = 19 // 2 # 9\n",
        "\n",
        "# Modulo\n",
        "num = 19 % 2 % 2 # 1\n",
        "num = 12.6 % 3 # 0.599\n",
        "# result = 120.5 % \"2\" # Error\n",
        "x = abs(-120.5) % 2 # resultado distinto 0.5\n",
        "x = -120.5 % 2 # Forzar resultado positivo 1.5"
      ],
      "metadata": {
        "id": "qekv38QY2av2"
      },
      "execution_count": null,
      "outputs": []
    },
    {
      "cell_type": "markdown",
      "source": [
        "> Nota sobre Potenciación: El operador ** se evalúa de derecha a izquierda. 2 ** 3 ** 2 es 2 ** 9, no 8 ** 2.\n",
        ">\n",
        "\n",
        "---\n",
        "\n",
        "### ⚖️ Operadores de Comparación y Lógicos\n",
        "\n",
        "Estos operadores evalúan expresiones y **siempre devuelven un resultado booleano** (`True` o `False`). Las cadenas en Python se pueden comparar lexicográficamente (orden de diccionario) **utilizando operadores relacionales: <, >, <= y >=**. La comparación lexicográfica considera los valores ASCII o Unicode de los caracteres. Las mayúsculas preceden a las minúsculas (A < a).\n",
        "\n",
        "![image.png](data:image/png;base64,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)\n",
        "\n",
        "### **Comparación de Valores**\n",
        "\n",
        "Comparan los valores de dos operandos.\n",
        "\n",
        "- `==` : Igual a\n",
        "- `!=` : No igual a (diferente)\n",
        "- `>` : Mayor que\n",
        "- `<` : Menor que\n",
        "- `>=`: Mayor o igual que\n",
        "- `<=`: Menor o igual que"
      ],
      "metadata": {
        "id": "XSMq_wIP2dJB"
      }
    },
    {
      "cell_type": "code",
      "source": [
        "5 == 5          # True\n",
        "5 == \"5\"        # False, los tipos son diferentes\n",
        "'a' > 'Z'       # True, las minúsculas tienen un valor ASCII mayor\n",
        "\"Hola\" == 'Hola' # True\n",
        "\"Hola\" == \"hola\" # False\n",
        "\n",
        "# Mayor (>), Menor(<), Mayor o Igual (>=), Menor o Igual (<=) aplican las misma reglas\n",
        "[1,2,3] == [1,2,3] # True\n",
        "[1, 2, 3] == (1, 2, 3) # Error\n",
        "[1,2,4] > [1,2,3] # True, compara elemento por elemento (lexicográficamente)\n",
        "\n",
        "12 > 12 # False\n",
        "1.3 > 1.1 # True\n",
        "# 4 > \"5\" # False ERROR\n",
        "'Z' > 'A' # True\n",
        "'a' > 'Z' # Ascii False\n",
        "\"Beta\" > \"Abaco\" # True\n",
        "[1, 2, 3] > [1, 2, 2] # True\n",
        "# [1, 2, 3] > (1, 2, 2) # Error"
      ],
      "metadata": {
        "id": "BYQRf55D2n0R"
      },
      "execution_count": null,
      "outputs": []
    },
    {
      "cell_type": "markdown",
      "source": [
        "### **Operadores de Identidad**\n",
        "\n",
        "Comparan si dos variables apuntan **exactamente al mismo objeto en memoria**.\n",
        "\n",
        "- `is` : Es el mismo objeto\n",
        "- `is not` : No es el mismo objeto\n",
        "\n",
        "> Es crucial para comprobar None: mi_variable is None.\n",
        ">"
      ],
      "metadata": {
        "id": "m5tsipAw2y6D"
      }
    },
    {
      "cell_type": "code",
      "source": [
        "a = [1, 2, 3]\n",
        "b = a\n",
        "c = [1, 2, 3]\n",
        "\n",
        "a is b # True, b es solo otro nombre para el mismo objeto lista\n",
        "a is c # False, son dos objetos diferentes, aunque contengan los mismos valores\n",
        "a == c # True, sus valores son iguales\n"
      ],
      "metadata": {
        "id": "uHkolP3N20FK"
      },
      "execution_count": null,
      "outputs": []
    },
    {
      "cell_type": "markdown",
      "source": [
        "### **Operadores de Pertenencia**\n",
        "\n",
        "Verifican si un valor se encuentra dentro de una secuencia (como una lista, tupla o cadena).\n",
        "\n",
        "- `in` : Está contenido en\n",
        "- `not in` : No está contenido en"
      ],
      "metadata": {
        "id": "F19Ycm2y21cG"
      }
    },
    {
      "cell_type": "code",
      "source": [
        "'a' in 'Naranja' # True\n",
        "'z' not in 'Naranja' # True\n",
        "5 in [1, 2, 3, 4] # False"
      ],
      "metadata": {
        "id": "zPuhlQ2d22pO"
      },
      "execution_count": null,
      "outputs": []
    },
    {
      "cell_type": "markdown",
      "source": [
        "---\n",
        "\n",
        "### ✍️ Operadores de Asignación\n",
        "\n",
        "Se utilizan para asignar un valor a una variable. Los operadores de asignación compuesta realizan una operación y asignan el resultado en un solo paso.\n",
        "\n",
        "| Operador | Equivalente | Descripción |\n",
        "| --- | --- | --- |\n",
        "| `a = 5` |  | Asignación simple |\n",
        "| `a += 5` | `a = a + 5` | Asignación de suma |\n",
        "| `a -= 5` | `a = a - 5` | Asignación de resta |\n",
        "| `a *= 3` | `a = a * 3` | Asignación de multiplicación |\n",
        "| `a /= 3` | `a = a / 3` | Asignación de división |\n",
        "| `a %= 3` | `a = a % 3` | Asignación de módulo |\n",
        "| `a **= 3` | `a = a ** 3` | Asignación de potenciación |\n",
        "| `a //= 3` | `a = a // 3` | Asignación de división entera |"
      ],
      "metadata": {
        "id": "CEf8Oacc26mA"
      }
    },
    {
      "cell_type": "code",
      "source": [
        "a = 1\n",
        "a += 5 # Incremento (+=) es equivalente (a = a + 5) ojo con (=+)\n",
        "a -= 5 # Decremento (-=) es equivalente (a = a - 5)\n",
        "a *= 3 # Multiplicacion (*=) es equivalente (a = a * 3)\n",
        "a /= 3 # Division (/=) es equivalente (a = a / 3)\n",
        "a %= 3 # Modulo (%=) es equivalente (a = a % 3)\n",
        "a **= 3 # Potenciacion (**=) es equivalente (a = a ** 3)\n",
        "a //= 3 # Division entera (//=)\tes equivalente (a = a // 3)\n",
        "# a &= 3 # Asignacion Bit a Bit AND (&=) es equivalente (a = a & 3) #TypeError: unsupported operand type(s) for &=: 'float' and 'int'\n",
        "# a |= 3 # Asignacion Bit a Bit OR (|=) es equivalente (a = a | 3) # TypeError: unsupported operand type(s) for |=: 'float' and 'int'\n",
        "# a ^= 3 # Asignacion Bit a Bit xOR (^=)\tes equivalente (a = a ^ 3) # TypeError: unsupported operand type(s) for ^=: 'float' and 'int'\n",
        "# a >>= 3 # (>>=) Desplazamiento Derecha Bit a Bit es equivalente (a = a >> 3) # TypeError: unsupported operand type(s) for >>=: 'float' and 'int'\n",
        "# a <<= 3 # (<<=) Desplazamiento Derecha Bit a Bit es equivalente (a = a << 3) # TypeError: unsupported operand type(s) for <<=: 'float' and 'int'"
      ],
      "metadata": {
        "id": "etkBtjbb27ph"
      },
      "execution_count": null,
      "outputs": []
    },
    {
      "cell_type": "markdown",
      "source": [
        "---\n",
        "\n",
        "### ιε Precedencia de Operadores\n",
        "\n",
        "La precedencia define el orden en que se resuelven las operaciones en una expresión. `PEMDAS` (Paréntesis, Exponentes, Multiplicación/División, Adición/Sustracción) es una buena guía para empezar, pero el orden en Python es más extenso.\n",
        "\n",
        "**Orden Simplificado (de mayor a menor precedencia):**\n",
        "\n",
        "1. **`()`** : Paréntesis (máxima prioridad).\n",
        "2. **`*`** : Potenciación.\n",
        "3. **, `/`, `//`, `%`**: Multiplicación y División.\n",
        "4. **`+`,** : Suma y Resta.\n",
        "5. **`>`, `<`, `==`, etc.**: Comparaciones, Identidad y Pertenencia.\n",
        "6. **`not`**: `not` lógico.\n",
        "7. **`and`**: `and` lógico.\n",
        "8. **`or`**: `or` lógico.\n",
        "\n",
        "**Ejemplo de evaluación:**"
      ],
      "metadata": {
        "id": "vw5GPUXW29Zs"
      }
    },
    {
      "cell_type": "code",
      "source": [
        "resultado = 10 + 3 * 2 ** 2 # ¿Cuál es el resultado?\n",
        "\n",
        "# 1. Potenciación (**)\n",
        "# resultado = 10 + 3 * 4\n",
        "\n",
        "# 2. Multiplicación (*)\n",
        "# resultado = 10 + 12\n",
        "\n",
        "# 3. Suma (+)\n",
        "# resultado = 22\n",
        "\n",
        "print(resultado) # Salida: 22\n",
        "\n",
        "# 1) Paréntesis y corchetes/llaves (listas, diccionarios/sets)\n",
        "# 2) Indización, rebanado, llamada y referenciación de atributos.\n",
        "# 3) Expresión await\n",
        "# 4) Exponenciación (**)\n",
        "# 5) Complemento/or binario, mas y menos unitarios ~ + -\n",
        "# 6) Multiplicación división, módulo, división entera y multiplicación de matrices (* / % // @)\n",
        "# 7) Suma y resta (+ -)\n",
        "# 8) Desplazamiento bit a derecha e izquierda (>> <<)\n",
        "# 9) AND binario (&)\n",
        "# 10) XOR (OR exclusivo) binario (^)\n",
        "# 11) OR binario (|)\n",
        "# 12) Operadores de comparación (<= < > >=), operadores de igualdad (== !=) operador de pertenencia (in) y de identidad (is)\n",
        "# 13) NOT lógico\n",
        "# 14) AND lógico\n",
        "# 15) OR lógico\n",
        "# 16) Operadores de asignación (= %= /= //= -= += *= **= :=)\n",
        "\n",
        "x = 10\n",
        "y = x*3-3**10-2+3\n",
        "# Distinto\n",
        "x = 10\n",
        "y = (x*3-3)**(10-2)+3\n",
        "\n",
        "# Metodo PEMDAS\n",
        "print(2 ** 3 + 3 - 7 / 1 // 4)\n",
        "\"\"\"\n",
        "P = paréntesis ()\n",
        "E = exponentes\n",
        "M = multiplicación\n",
        "D = división\n",
        "A = adicción\n",
        "S = sustración\n",
        "\"\"\"\n",
        "\n",
        "print(2 ** 3)\n",
        "print((7 / 1) // 4)\n",
        "\n",
        "print(8 + 3 - 1)\n"
      ],
      "metadata": {
        "id": "U5OeZiZ32-qC"
      },
      "execution_count": null,
      "outputs": []
    }
  ]
}